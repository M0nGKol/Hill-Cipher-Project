{
 "cells": [
  {
   "cell_type": "code",
   "id": "initial_id",
   "metadata": {
    "collapsed": true,
    "ExecuteTime": {
     "end_time": "2025-05-04T04:25:27.540887Z",
     "start_time": "2025-05-04T04:25:27.473027Z"
    }
   },
   "source": "import numpy as np",
   "outputs": [],
   "execution_count": 1
  },
  {
   "metadata": {
    "ExecuteTime": {
     "end_time": "2025-05-04T04:36:49.366981Z",
     "start_time": "2025-05-04T04:36:49.363329Z"
    }
   },
   "cell_type": "code",
   "source": [
    "plaintext = \"nhom jong tv siemreap\"\n",
    "plaintext"
   ],
   "id": "98e75c161514c5d2",
   "outputs": [
    {
     "data": {
      "text/plain": [
       "'nhom jong tv siemreap'"
      ]
     },
     "execution_count": 14,
     "metadata": {},
     "output_type": "execute_result"
    }
   ],
   "execution_count": 14
  },
  {
   "metadata": {
    "ExecuteTime": {
     "end_time": "2025-05-04T04:37:43.197794Z",
     "start_time": "2025-05-04T04:37:43.194207Z"
    }
   },
   "cell_type": "code",
   "source": [
    "plaintext = plaintext.replace(\" \", \"\").lower()\n",
    "plaintext"
   ],
   "id": "7356260160afd60d",
   "outputs": [
    {
     "data": {
      "text/plain": [
       "'nhomjongtvsiemreap'"
      ]
     },
     "execution_count": 17,
     "metadata": {},
     "output_type": "execute_result"
    }
   ],
   "execution_count": 17
  },
  {
   "metadata": {
    "ExecuteTime": {
     "end_time": "2025-05-04T04:50:36.547477Z",
     "start_time": "2025-05-04T04:50:36.544827Z"
    }
   },
   "cell_type": "code",
   "source": "key = 'test'",
   "id": "35be6515ef347a3a",
   "outputs": [],
   "execution_count": 33
  },
  {
   "metadata": {
    "ExecuteTime": {
     "end_time": "2025-05-04T04:39:38.555420Z",
     "start_time": "2025-05-04T04:39:38.553158Z"
    }
   },
   "cell_type": "code",
   "source": "chr(97)",
   "id": "3c200d8bce3a60b0",
   "outputs": [
    {
     "data": {
      "text/plain": [
       "'a'"
      ]
     },
     "execution_count": 22,
     "metadata": {},
     "output_type": "execute_result"
    }
   ],
   "execution_count": 22
  },
  {
   "metadata": {
    "ExecuteTime": {
     "end_time": "2025-05-04T04:39:39.056725Z",
     "start_time": "2025-05-04T04:39:39.053247Z"
    }
   },
   "cell_type": "code",
   "source": "ord('a')",
   "id": "bff2a018de88a1de",
   "outputs": [
    {
     "data": {
      "text/plain": [
       "97"
      ]
     },
     "execution_count": 23,
     "metadata": {},
     "output_type": "execute_result"
    }
   ],
   "execution_count": 23
  },
  {
   "metadata": {
    "ExecuteTime": {
     "end_time": "2025-05-04T04:39:39.571935Z",
     "start_time": "2025-05-04T04:39:39.568446Z"
    }
   },
   "cell_type": "code",
   "source": [
    "map_letter = {chr(i):i-97 for i in range(97,97+26)}\n",
    "map_letter"
   ],
   "id": "92355fce89dce7fa",
   "outputs": [
    {
     "data": {
      "text/plain": [
       "{'a': 0,\n",
       " 'b': 1,\n",
       " 'c': 2,\n",
       " 'd': 3,\n",
       " 'e': 4,\n",
       " 'f': 5,\n",
       " 'g': 6,\n",
       " 'h': 7,\n",
       " 'i': 8,\n",
       " 'j': 9,\n",
       " 'k': 10,\n",
       " 'l': 11,\n",
       " 'm': 12,\n",
       " 'n': 13,\n",
       " 'o': 14,\n",
       " 'p': 15,\n",
       " 'q': 16,\n",
       " 'r': 17,\n",
       " 's': 18,\n",
       " 't': 19,\n",
       " 'u': 20,\n",
       " 'v': 21,\n",
       " 'w': 22,\n",
       " 'x': 23,\n",
       " 'y': 24,\n",
       " 'z': 25}"
      ]
     },
     "execution_count": 24,
     "metadata": {},
     "output_type": "execute_result"
    }
   ],
   "execution_count": 24
  },
  {
   "metadata": {
    "ExecuteTime": {
     "end_time": "2025-05-04T04:39:40.138533Z",
     "start_time": "2025-05-04T04:39:40.135783Z"
    }
   },
   "cell_type": "code",
   "source": [
    "map_letter_rev = {i-97:chr(i) for i in range(97,97+26)}\n",
    "map_letter_rev"
   ],
   "id": "26f121f860aa06ae",
   "outputs": [
    {
     "data": {
      "text/plain": [
       "{0: 'a',\n",
       " 1: 'b',\n",
       " 2: 'c',\n",
       " 3: 'd',\n",
       " 4: 'e',\n",
       " 5: 'f',\n",
       " 6: 'g',\n",
       " 7: 'h',\n",
       " 8: 'i',\n",
       " 9: 'j',\n",
       " 10: 'k',\n",
       " 11: 'l',\n",
       " 12: 'm',\n",
       " 13: 'n',\n",
       " 14: 'o',\n",
       " 15: 'p',\n",
       " 16: 'q',\n",
       " 17: 'r',\n",
       " 18: 's',\n",
       " 19: 't',\n",
       " 20: 'u',\n",
       " 21: 'v',\n",
       " 22: 'w',\n",
       " 23: 'x',\n",
       " 24: 'y',\n",
       " 25: 'z'}"
      ]
     },
     "execution_count": 25,
     "metadata": {},
     "output_type": "execute_result"
    }
   ],
   "execution_count": 25
  },
  {
   "metadata": {
    "ExecuteTime": {
     "end_time": "2025-05-04T04:39:40.840940Z",
     "start_time": "2025-05-04T04:39:40.837328Z"
    }
   },
   "cell_type": "code",
   "source": [
    "toNumber = [map_letter[i] for i in plaintext]\n",
    "toNumber"
   ],
   "id": "5780e4a6ca063fc9",
   "outputs": [
    {
     "data": {
      "text/plain": [
       "[13, 7, 14, 12, 9, 14, 13, 6, 19, 21, 18, 8, 4, 12, 17, 4, 0, 15]"
      ]
     },
     "execution_count": 26,
     "metadata": {},
     "output_type": "execute_result"
    }
   ],
   "execution_count": 26
  },
  {
   "metadata": {
    "ExecuteTime": {
     "end_time": "2025-05-04T04:41:39.943322Z",
     "start_time": "2025-05-04T04:41:39.939635Z"
    }
   },
   "cell_type": "code",
   "source": [
    "keyToNumber = [map_letter[i] for i in key]\n",
    "keyToNumber"
   ],
   "id": "7f8d7a05df5875e5",
   "outputs": [
    {
     "data": {
      "text/plain": [
       "[19, 4, 18, 19]"
      ]
     },
     "execution_count": 27,
     "metadata": {},
     "output_type": "execute_result"
    }
   ],
   "execution_count": 27
  },
  {
   "metadata": {
    "ExecuteTime": {
     "end_time": "2025-05-04T04:44:36.113103Z",
     "start_time": "2025-05-04T04:44:36.110420Z"
    }
   },
   "cell_type": "code",
   "source": [
    "block_length = len(plaintext)// 2\n",
    "block_length"
   ],
   "id": "693b39e97e9b01c",
   "outputs": [
    {
     "data": {
      "text/plain": [
       "9"
      ]
     },
     "execution_count": 29,
     "metadata": {},
     "output_type": "execute_result"
    }
   ],
   "execution_count": 29
  },
  {
   "metadata": {
    "ExecuteTime": {
     "end_time": "2025-05-04T04:50:40.465792Z",
     "start_time": "2025-05-04T04:50:40.462636Z"
    }
   },
   "cell_type": "code",
   "source": [
    "lengthOfN = int(pow(len(key),0.5))\n",
    "lengthOfN"
   ],
   "id": "71343dc112376a91",
   "outputs": [
    {
     "data": {
      "text/plain": [
       "2"
      ]
     },
     "execution_count": 34,
     "metadata": {},
     "output_type": "execute_result"
    }
   ],
   "execution_count": 34
  },
  {
   "metadata": {
    "ExecuteTime": {
     "end_time": "2025-05-04T04:54:53.371609Z",
     "start_time": "2025-05-04T04:54:53.369374Z"
    }
   },
   "cell_type": "code",
   "source": [
    "key_matrix = np.array(keyToNumber).reshape((lengthOfN, lengthOfN))\n",
    "key_matrix"
   ],
   "id": "637950336fe4e716",
   "outputs": [
    {
     "data": {
      "text/plain": [
       "array([[19,  4],\n",
       "       [18, 19]])"
      ]
     },
     "execution_count": 40,
     "metadata": {},
     "output_type": "execute_result"
    }
   ],
   "execution_count": 40
  },
  {
   "metadata": {
    "ExecuteTime": {
     "end_time": "2025-05-04T04:56:53.091137Z",
     "start_time": "2025-05-04T04:56:53.089148Z"
    }
   },
   "cell_type": "code",
   "source": [
    "plaintext_array = np.array(toNumber)\n",
    "plaintext_array"
   ],
   "id": "ad2880b2ee970031",
   "outputs": [
    {
     "data": {
      "text/plain": [
       "array([13,  7, 14, 12,  9, 14, 13,  6, 19, 21, 18,  8,  4, 12, 17,  4,  0,\n",
       "       15])"
      ]
     },
     "execution_count": 45,
     "metadata": {},
     "output_type": "execute_result"
    }
   ],
   "execution_count": 45
  },
  {
   "metadata": {
    "ExecuteTime": {
     "end_time": "2025-05-04T05:19:31.297433Z",
     "start_time": "2025-05-04T05:19:31.295716Z"
    }
   },
   "cell_type": "code",
   "source": "plaintextBlock = np.split(plaintext_array, block_length)",
   "id": "5c1cb428de45cc7b",
   "outputs": [],
   "execution_count": 49
  },
  {
   "metadata": {
    "ExecuteTime": {
     "end_time": "2025-05-04T05:19:36.782406Z",
     "start_time": "2025-05-04T05:19:36.780096Z"
    }
   },
   "cell_type": "code",
   "source": "plaintextBlock",
   "id": "89939eeb4c66727c",
   "outputs": [
    {
     "data": {
      "text/plain": [
       "[array([13,  7]),\n",
       " array([14, 12]),\n",
       " array([ 9, 14]),\n",
       " array([13,  6]),\n",
       " array([19, 21]),\n",
       " array([18,  8]),\n",
       " array([ 4, 12]),\n",
       " array([17,  4]),\n",
       " array([ 0, 15])]"
      ]
     },
     "execution_count": 50,
     "metadata": {},
     "output_type": "execute_result"
    }
   ],
   "execution_count": 50
  },
  {
   "metadata": {
    "ExecuteTime": {
     "end_time": "2025-05-04T05:19:42.966435Z",
     "start_time": "2025-05-04T05:19:42.963798Z"
    }
   },
   "cell_type": "code",
   "source": "plaintextBlock[0]",
   "id": "cabdebe90c470b9a",
   "outputs": [
    {
     "data": {
      "text/plain": [
       "array([13,  7])"
      ]
     },
     "execution_count": 51,
     "metadata": {},
     "output_type": "execute_result"
    }
   ],
   "execution_count": 51
  },
  {
   "metadata": {
    "ExecuteTime": {
     "end_time": "2025-05-04T05:36:28.799591Z",
     "start_time": "2025-05-04T05:36:28.794684Z"
    }
   },
   "cell_type": "code",
   "source": "np.matmul(plaintextBlock[0],key_matrix) % 26",
   "id": "2d8efecae6953576",
   "outputs": [
    {
     "data": {
      "text/plain": [
       "array([9, 3])"
      ]
     },
     "execution_count": 54,
     "metadata": {},
     "output_type": "execute_result"
    }
   ],
   "execution_count": 54
  },
  {
   "metadata": {
    "ExecuteTime": {
     "end_time": "2025-05-04T05:37:40.581513Z",
     "start_time": "2025-05-04T05:37:40.575021Z"
    }
   },
   "cell_type": "code",
   "source": [
    "ciphertext_block = [np.matmul(plaintextBlock[i],key_matrix) % 26 for i in range(len(plaintextBlock))]\n",
    "ciphertext_block"
   ],
   "id": "e52ce60f329c1c34",
   "outputs": [
    {
     "data": {
      "text/plain": [
       "[array([9, 3]),\n",
       " array([14, 24]),\n",
       " array([ 7, 16]),\n",
       " array([17, 10]),\n",
       " array([11,  7]),\n",
       " array([18, 16]),\n",
       " array([ 6, 10]),\n",
       " array([ 5, 14]),\n",
       " array([10, 25])]"
      ]
     },
     "execution_count": 55,
     "metadata": {},
     "output_type": "execute_result"
    }
   ],
   "execution_count": 55
  },
  {
   "metadata": {
    "ExecuteTime": {
     "end_time": "2025-05-04T05:38:07.199435Z",
     "start_time": "2025-05-04T05:38:07.196938Z"
    }
   },
   "cell_type": "code",
   "source": "ciphertext_array = np.concatenate(ciphertext_block)",
   "id": "b29eebb21479cbdc",
   "outputs": [],
   "execution_count": 56
  },
  {
   "metadata": {
    "ExecuteTime": {
     "end_time": "2025-05-04T05:38:09.571331Z",
     "start_time": "2025-05-04T05:38:09.569273Z"
    }
   },
   "cell_type": "code",
   "source": "ciphertext_array",
   "id": "36a52f4cbc9d6781",
   "outputs": [
    {
     "data": {
      "text/plain": [
       "array([ 9,  3, 14, 24,  7, 16, 17, 10, 11,  7, 18, 16,  6, 10,  5, 14, 10,\n",
       "       25])"
      ]
     },
     "execution_count": 57,
     "metadata": {},
     "output_type": "execute_result"
    }
   ],
   "execution_count": 57
  },
  {
   "metadata": {
    "ExecuteTime": {
     "end_time": "2025-05-04T05:41:20.384242Z",
     "start_time": "2025-05-04T05:41:20.381669Z"
    }
   },
   "cell_type": "code",
   "source": [
    "ciphertext = [map_letter_rev[ciphertext_array[i]] for i in range(len(ciphertext_array))]\n",
    "ciphertext"
   ],
   "id": "f5ac666bab2c347d",
   "outputs": [
    {
     "data": {
      "text/plain": [
       "['j',\n",
       " 'd',\n",
       " 'o',\n",
       " 'y',\n",
       " 'h',\n",
       " 'q',\n",
       " 'r',\n",
       " 'k',\n",
       " 'l',\n",
       " 'h',\n",
       " 's',\n",
       " 'q',\n",
       " 'g',\n",
       " 'k',\n",
       " 'f',\n",
       " 'o',\n",
       " 'k',\n",
       " 'z']"
      ]
     },
     "execution_count": 61,
     "metadata": {},
     "output_type": "execute_result"
    }
   ],
   "execution_count": 61
  },
  {
   "metadata": {
    "ExecuteTime": {
     "end_time": "2025-05-04T05:41:38.481965Z",
     "start_time": "2025-05-04T05:41:38.479498Z"
    }
   },
   "cell_type": "code",
   "source": "''.join(ciphertext)",
   "id": "e91b1ad2c39f8f4c",
   "outputs": [
    {
     "data": {
      "text/plain": [
       "'jdoyhqrklhsqgkfokz'"
      ]
     },
     "execution_count": 62,
     "metadata": {},
     "output_type": "execute_result"
    }
   ],
   "execution_count": 62
  },
  {
   "metadata": {
    "ExecuteTime": {
     "end_time": "2025-05-04T05:46:47.976635Z",
     "start_time": "2025-05-04T05:46:47.969713Z"
    }
   },
   "cell_type": "code",
   "source": "np.linalg.inv(key_matrix)",
   "id": "b2b84c1c65a6b65f",
   "outputs": [
    {
     "data": {
      "text/plain": [
       "array([[ 0.06574394, -0.01384083],\n",
       "       [-0.06228374,  0.06574394]])"
      ]
     },
     "execution_count": 63,
     "metadata": {},
     "output_type": "execute_result"
    }
   ],
   "execution_count": 63
  },
  {
   "metadata": {
    "ExecuteTime": {
     "end_time": "2025-05-04T05:47:02.008023Z",
     "start_time": "2025-05-04T05:47:02.006005Z"
    }
   },
   "cell_type": "code",
   "source": "np.linalg.det(key_matrix)",
   "id": "c4db6f0b6fd64741",
   "outputs": [
    {
     "data": {
      "text/plain": [
       "289.00000000000006"
      ]
     },
     "execution_count": 64,
     "metadata": {},
     "output_type": "execute_result"
    }
   ],
   "execution_count": 64
  },
  {
   "metadata": {
    "ExecuteTime": {
     "end_time": "2025-05-04T05:47:53.370862Z",
     "start_time": "2025-05-04T05:47:53.368804Z"
    }
   },
   "cell_type": "code",
   "source": "round(np.linalg.det(key_matrix))",
   "id": "e8d00b1e84def577",
   "outputs": [
    {
     "data": {
      "text/plain": [
       "289"
      ]
     },
     "execution_count": 65,
     "metadata": {},
     "output_type": "execute_result"
    }
   ],
   "execution_count": 65
  },
  {
   "metadata": {
    "ExecuteTime": {
     "end_time": "2025-05-04T05:58:51.487210Z",
     "start_time": "2025-05-04T05:58:51.484102Z"
    }
   },
   "cell_type": "code",
   "source": [
    "adj_key_matrix = np.linalg.inv(key_matrix) * round(np.linalg.det(key_matrix))\n",
    "np.round(adj_key_matrix)"
   ],
   "id": "145b825b28d24db1",
   "outputs": [
    {
     "data": {
      "text/plain": [
       "array([[ 19.,  -4.],\n",
       "       [-18.,  19.]])"
      ]
     },
     "execution_count": 94,
     "metadata": {},
     "output_type": "execute_result"
    }
   ],
   "execution_count": 94
  },
  {
   "metadata": {
    "ExecuteTime": {
     "end_time": "2025-05-04T05:58:54.366667Z",
     "start_time": "2025-05-04T05:58:54.364510Z"
    }
   },
   "cell_type": "code",
   "source": "pow(289,-1,26)",
   "id": "a344ee3df7b22f72",
   "outputs": [
    {
     "data": {
      "text/plain": [
       "9"
      ]
     },
     "execution_count": 95,
     "metadata": {},
     "output_type": "execute_result"
    }
   ],
   "execution_count": 95
  },
  {
   "metadata": {
    "ExecuteTime": {
     "end_time": "2025-05-04T05:58:54.693078Z",
     "start_time": "2025-05-04T05:58:54.690623Z"
    }
   },
   "cell_type": "code",
   "source": "pow(3,-1,26)",
   "id": "5fcc83e0925953e1",
   "outputs": [
    {
     "data": {
      "text/plain": [
       "9"
      ]
     },
     "execution_count": 96,
     "metadata": {},
     "output_type": "execute_result"
    }
   ],
   "execution_count": 96
  },
  {
   "metadata": {
    "ExecuteTime": {
     "end_time": "2025-05-04T05:59:56.369280Z",
     "start_time": "2025-05-04T05:59:56.367284Z"
    }
   },
   "cell_type": "code",
   "source": [
    "key_inverse = (9 * adj_key_matrix) % 26\n",
    "np.round(key_inverse)"
   ],
   "id": "8aeedc97b4c5f7a",
   "outputs": [
    {
     "data": {
      "text/plain": [
       "array([[15., 16.],\n",
       "       [20., 15.]])"
      ]
     },
     "execution_count": 104,
     "metadata": {},
     "output_type": "execute_result"
    }
   ],
   "execution_count": 104
  },
  {
   "metadata": {
    "ExecuteTime": {
     "end_time": "2025-05-04T05:59:58.129975Z",
     "start_time": "2025-05-04T05:59:58.126788Z"
    }
   },
   "cell_type": "code",
   "source": [
    "ciphertext_number = [map_letter[i] for i in ciphertext]\n",
    "ciphertext_number"
   ],
   "id": "de5a9e9adf69af0c",
   "outputs": [
    {
     "data": {
      "text/plain": [
       "[9, 3, 14, 24, 7, 16, 17, 10, 11, 7, 18, 16, 6, 10, 5, 14, 10, 25]"
      ]
     },
     "execution_count": 105,
     "metadata": {},
     "output_type": "execute_result"
    }
   ],
   "execution_count": 105
  },
  {
   "metadata": {
    "ExecuteTime": {
     "end_time": "2025-05-04T05:59:58.429047Z",
     "start_time": "2025-05-04T05:59:58.426414Z"
    }
   },
   "cell_type": "code",
   "source": [
    "ciphertext_array = np.array(ciphertext_number)\n",
    "ciphertext_array"
   ],
   "id": "617d0e539e1590bd",
   "outputs": [
    {
     "data": {
      "text/plain": [
       "array([ 9,  3, 14, 24,  7, 16, 17, 10, 11,  7, 18, 16,  6, 10,  5, 14, 10,\n",
       "       25])"
      ]
     },
     "execution_count": 106,
     "metadata": {},
     "output_type": "execute_result"
    }
   ],
   "execution_count": 106
  },
  {
   "metadata": {
    "ExecuteTime": {
     "end_time": "2025-05-04T05:59:59.066463Z",
     "start_time": "2025-05-04T05:59:59.063017Z"
    }
   },
   "cell_type": "code",
   "source": [
    "ciphertext_block = np.split(ciphertext_array, block_length)\n",
    "ciphertext_block"
   ],
   "id": "d943b1d08c462d43",
   "outputs": [
    {
     "data": {
      "text/plain": [
       "[array([9, 3]),\n",
       " array([14, 24]),\n",
       " array([ 7, 16]),\n",
       " array([17, 10]),\n",
       " array([11,  7]),\n",
       " array([18, 16]),\n",
       " array([ 6, 10]),\n",
       " array([ 5, 14]),\n",
       " array([10, 25])]"
      ]
     },
     "execution_count": 107,
     "metadata": {},
     "output_type": "execute_result"
    }
   ],
   "execution_count": 107
  },
  {
   "metadata": {
    "ExecuteTime": {
     "end_time": "2025-05-04T06:00:58.852218Z",
     "start_time": "2025-05-04T06:00:58.845652Z"
    }
   },
   "cell_type": "code",
   "source": [
    "plaintextBlock = [np.round(np.matmul(ciphertext_block[i], key_inverse)).astype(int) % 26 for i in range(len(ciphertext_block))]\n",
    "plaintextBlock"
   ],
   "id": "f21b88e25c47e005",
   "outputs": [
    {
     "data": {
      "text/plain": [
       "[array([13,  7]),\n",
       " array([14, 12]),\n",
       " array([ 9, 14]),\n",
       " array([13,  6]),\n",
       " array([19, 21]),\n",
       " array([18,  8]),\n",
       " array([ 4, 12]),\n",
       " array([17,  4]),\n",
       " array([ 0, 15])]"
      ]
     },
     "execution_count": 111,
     "metadata": {},
     "output_type": "execute_result"
    }
   ],
   "execution_count": 111
  },
  {
   "metadata": {
    "ExecuteTime": {
     "end_time": "2025-05-04T06:01:01.669374Z",
     "start_time": "2025-05-04T06:01:01.666670Z"
    }
   },
   "cell_type": "code",
   "source": "plaintext_array = np.concatenate(plaintextBlock)",
   "id": "67cea3a5df7577eb",
   "outputs": [],
   "execution_count": 112
  },
  {
   "metadata": {
    "ExecuteTime": {
     "end_time": "2025-05-04T06:01:02.227087Z",
     "start_time": "2025-05-04T06:01:02.223807Z"
    }
   },
   "cell_type": "code",
   "source": "plaintext_array",
   "id": "e47243cc686f5778",
   "outputs": [
    {
     "data": {
      "text/plain": [
       "array([13,  7, 14, 12,  9, 14, 13,  6, 19, 21, 18,  8,  4, 12, 17,  4,  0,\n",
       "       15])"
      ]
     },
     "execution_count": 113,
     "metadata": {},
     "output_type": "execute_result"
    }
   ],
   "execution_count": 113
  },
  {
   "metadata": {
    "ExecuteTime": {
     "end_time": "2025-05-04T05:56:44.866227Z",
     "start_time": "2025-05-04T05:56:44.863242Z"
    }
   },
   "cell_type": "code",
   "source": "type(plaintext_array[0])",
   "id": "13db15f3e7005177",
   "outputs": [
    {
     "data": {
      "text/plain": [
       "numpy.float64"
      ]
     },
     "execution_count": 90,
     "metadata": {},
     "output_type": "execute_result"
    }
   ],
   "execution_count": 90
  },
  {
   "metadata": {
    "ExecuteTime": {
     "end_time": "2025-05-04T06:01:21.924733Z",
     "start_time": "2025-05-04T06:01:21.922042Z"
    }
   },
   "cell_type": "code",
   "source": [
    "plaintext_list = [map_letter_rev[round(i)] for i in plaintext_array]\n",
    "plaintext_list"
   ],
   "id": "392fe219790904c6",
   "outputs": [
    {
     "data": {
      "text/plain": [
       "['n',\n",
       " 'h',\n",
       " 'o',\n",
       " 'm',\n",
       " 'j',\n",
       " 'o',\n",
       " 'n',\n",
       " 'g',\n",
       " 't',\n",
       " 'v',\n",
       " 's',\n",
       " 'i',\n",
       " 'e',\n",
       " 'm',\n",
       " 'r',\n",
       " 'e',\n",
       " 'a',\n",
       " 'p']"
      ]
     },
     "execution_count": 115,
     "metadata": {},
     "output_type": "execute_result"
    }
   ],
   "execution_count": 115
  },
  {
   "metadata": {
    "ExecuteTime": {
     "end_time": "2025-05-04T06:01:55.418329Z",
     "start_time": "2025-05-04T06:01:55.416311Z"
    }
   },
   "cell_type": "code",
   "source": "''.join(plaintext_list)",
   "id": "2cc6eef30a1b4b65",
   "outputs": [
    {
     "data": {
      "text/plain": [
       "'nhomjongtvsiemreap'"
      ]
     },
     "execution_count": 116,
     "metadata": {},
     "output_type": "execute_result"
    }
   ],
   "execution_count": 116
  },
  {
   "metadata": {},
   "cell_type": "code",
   "outputs": [],
   "execution_count": null,
   "source": "",
   "id": "1b895bd6c3ed35dd"
  }
 ],
 "metadata": {
  "kernelspec": {
   "display_name": "Python 3",
   "language": "python",
   "name": "python3"
  },
  "language_info": {
   "codemirror_mode": {
    "name": "ipython",
    "version": 2
   },
   "file_extension": ".py",
   "mimetype": "text/x-python",
   "name": "python",
   "nbconvert_exporter": "python",
   "pygments_lexer": "ipython2",
   "version": "2.7.6"
  }
 },
 "nbformat": 4,
 "nbformat_minor": 5
}
